{
 "cells": [
  {
   "cell_type": "code",
   "execution_count": 7,
   "id": "115d0e24",
   "metadata": {},
   "outputs": [
    {
     "data": {
      "text/plain": [
       "Text(0.5, 1.0, 'Kitny Doby kitne Bach Gaye')"
      ]
     },
     "execution_count": 7,
     "metadata": {},
     "output_type": "execute_result"
    },
    {
     "data": {
      "image/png": "[encoded data removed]",
      "text/plain": [
       "<Figure size 432x288 with 1 Axes>"
      ]
     },
     "metadata": {
      "needs_background": "light"
     },
     "output_type": "display_data"
    }
   ],
   "source": [
    "import seaborn as sns\n",
    "import numpy as np\n",
    "import pandas as pd\n",
    "import matplotlib.pyplot as plt\n",
    "kashti=sns.load_dataset(\"titanic\")\n",
    "sns.boxplot(x=\"survived\", y=\"age\",\n",
    "           showmeans=True,\n",
    "           meanprops= {\"marker\": \"+\", \"markersize\": \"12\", \"markeredgecolor\": \"white\"},\n",
    "            data=kashti)\n",
    "plt.xlabel(\"How many survived\", size=10, weight=),\n",
    "plt.ylabel(\"Age(Years)\", size=10, weight='bold'),\n",
    "plt.title(\"Kitny Doby kitne Bach Gaye\", size=10, weight='bold')"
   ]
  }
 ],
 "metadata": {
  "kernelspec": {
   "display_name": "Python 3 (ipykernel)",
   "language": "python",
   "name": "python3"
  },
  "language_info": {
   "codemirror_mode": {
    "name": "ipython",
    "version": 3
   },
   "file_extension": ".py",
   "mimetype": "text/x-python",
   "name": "python",
   "nbconvert_exporter": "python",
   "pygments_lexer": "ipython3",
   "version": "3.9.12"
  }
 },
 "nbformat": 4,
 "nbformat_minor": 5
}
