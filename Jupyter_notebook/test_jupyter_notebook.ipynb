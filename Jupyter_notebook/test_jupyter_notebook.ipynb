{
 "cells": [
  {
   "cell_type": "markdown",
   "id": "954a0c01",
   "metadata": {},
   "source": [
    "# Python ka chilla with baba ammar\n",
    "## how to use jupyter notenook\n",
    "### our basics of python\n",
    "\n",
    "### 01- my first program\n"
   ]
  },
  {
   "cell_type": "code",
   "execution_count": 2,
   "id": "ab66be00",
   "metadata": {},
   "outputs": [
    {
     "name": "stdout",
     "output_type": "stream",
     "text": [
      "5\n",
      "Hello Hassan\n",
      "We are learning wit ammar\n"
     ]
    }
   ],
   "source": [
    "# My first program in python\n",
    "print(2+3)\n",
    "print(\"Hello Hassan\")\n",
    "print(\"We are learning wit ammar\")"
   ]
  },
  {
   "cell_type": "markdown",
   "id": "e5e794b6",
   "metadata": {},
   "source": [
    "### 02- My Second Program"
   ]
  },
  {
   "cell_type": "code",
   "execution_count": 5,
   "id": "35d7794d",
   "metadata": {
    "scrolled": true
   },
   "outputs": [
    {
     "name": "stdout",
     "output_type": "stream",
     "text": [
      "3\n",
      "2\n",
      "3.0\n",
      "6\n",
      "1\n",
      "3\n",
      "8\n",
      "5.4\n"
     ]
    }
   ],
   "source": [
    "print(2+1)\n",
    "print(3-1)\n",
    "print(6/2)\n",
    "print(2*3)\n",
    "print(13%2)\n",
    "print(6//2)\n",
    "print(2**3)\n",
    "print(3**2/3*4/5+6-3)"
   ]
  },
  {
   "cell_type": "markdown",
   "id": "38a13bcc",
   "metadata": {},
   "source": [
    "*PEMDAS*\n",
    "*Peranthesis,Exponent,Multiply,Divide,Addition,Substraction*\n",
    "*Left to right code Sequence resolve of Multiplication,Division & Addition,Substraction These Have Different squence from Others*"
   ]
  },
  {
   "cell_type": "markdown",
   "id": "17959cd2",
   "metadata": {},
   "source": [
    "### 03-Strings"
   ]
  },
  {
   "cell_type": "code",
   "execution_count": 4,
   "id": "d7424db6",
   "metadata": {
    "scrolled": true
   },
   "outputs": [
    {
     "name": "stdout",
     "output_type": "stream",
     "text": [
      "Hello Hassan\n",
      "We are learning wit ammar\n",
      "Hi Hassan\n",
      "Hi Hassan\n",
      "Hi Hassan\n",
      "What's up\n",
      "  What's Up    ?\n"
     ]
    }
   ],
   "source": [
    "print(\"Hello Hassan\")\n",
    "print(\"We are learning wit ammar\")\n",
    "\n",
    "print('Hi Hassan')\n",
    "print(\"Hi Hassan\")\n",
    "print('''Hi Hassan''')\n",
    "\n",
    "print(\"What's up\")\n",
    "print(\"  What's Up    ?\")"
   ]
  },
  {
   "cell_type": "markdown",
   "id": "0f1f6ce9",
   "metadata": {},
   "source": [
    "### 04-Comments_in_python\n",
    "The shortest key to comment is ***ctrl+/***"
   ]
  },
  {
   "cell_type": "code",
   "execution_count": 7,
   "id": "84066b0e",
   "metadata": {
    "scrolled": false
   },
   "outputs": [
    {
     "name": "stdout",
     "output_type": "stream",
     "text": [
      "How are u?\n",
      "Im Fine\n",
      "21\n"
     ]
    }
   ],
   "source": [
    "print(\"How are u?\")    #press these keys to comment out (ctrl+/)  ,  (#)coment out is use for the purpose of the Highlight the line or code\n",
    "print(\"Im Fine\") #print a string\n",
    "print(12+9) #print operators function with numbers"
   ]
  },
  {
   "cell_type": "markdown",
   "id": "5479dfcf",
   "metadata": {},
   "source": [
    "### 05-Variables"
   ]
  },
  {
   "cell_type": "code",
   "execution_count": 8,
   "id": "6ede0d3b",
   "metadata": {},
   "outputs": [
    {
     "name": "stdout",
     "output_type": "stream",
     "text": [
      "5\n",
      "im learing with ammar\n",
      "25\n",
      "<class 'int'>\n",
      "<class 'str'>\n",
      "<class 'str'>\n",
      "Apples\n"
     ]
    }
   ],
   "source": [
    "#Variables: Objects containg specific values\n",
    "x = 5 #numeric or integer variable\n",
    "print(x)\n",
    "\n",
    "y=\"im learing with ammar\" #string variable\n",
    "print(y)\n",
    "\n",
    "x=x+20 #this also known as x=25 because X is 5 weh add 5+20\n",
    "print(x)\n",
    "\n",
    "#types of variables\n",
    "type(x)\n",
    "print(type(x))\n",
    "\n",
    "type(y)\n",
    "print(type(y))\n",
    "#print_types_class\n",
    "\n",
    "# Rules to assign a variables\n",
    "# 1- The variable should contain letters,number or underscores\n",
    "# 2- Do not start with numbers\n",
    "# 3- spaces are not allowed in variables numbers\n",
    "# 4- Do not use others keywords only use python keywords (break, means, media, test etc.)\n",
    "# 5- Short and descriptive variables name\n",
    "# 6- Case senstivity (Lowercase, uppercase letters But always suggest that only lower case letters should be used)\n",
    "\n",
    "\n",
    "fruit_basket=8\n",
    "fruit_basket=\"Apples\"\n",
    "print(type(fruit_basket))\n",
    "print(fruit_basket)\n",
    "\n",
    "#fruit_Basket_clear"
   ]
  },
  {
   "cell_type": "markdown",
   "id": "ccdd6b83",
   "metadata": {},
   "source": [
    "### 06-Input Variables"
   ]
  },
  {
   "cell_type": "code",
   "execution_count": 9,
   "id": "fcbd8495",
   "metadata": {},
   "outputs": [
    {
     "name": "stdout",
     "output_type": "stream",
     "text": [
      "Mangos\n",
      "which is your favrt fruit? Mangos\n",
      "Mangos\n",
      "what is your name? 18\n",
      "Hello! 18\n",
      "what is your name? Hassan\n",
      "Assalam o Alikum Hassan\n",
      "What is your name? Hassan\n",
      "What is your age? 18\n",
      "Assalam O Alikum! Hassan ,Your are adult Now\n"
     ]
    }
   ],
   "source": [
    "fruit_basket=\"Mangos\"\n",
    "print(fruit_basket)\n",
    "\n",
    "#input function\n",
    "\n",
    "fruit_basket=input(\"which is your favrt fruit? \")\n",
    "print(fruit_basket)\n",
    "\n",
    "\n",
    "\n",
    "#input function of 2nd stage\n",
    "\n",
    "name= input(\"what is your name? \")\n",
    "greetings=\"Hello!\"\n",
    "print(greetings, name)\n",
    "\n",
    "\n",
    "\n",
    "#another way of stage 2 input function\n",
    "\n",
    "name= input(\"what is your name? \")\n",
    "print(\"Assalam o Alikum\",name)\n",
    "\n",
    "\n",
    "\n",
    "#3rd Stage input funtion.  It has 3 types.\n",
    "\n",
    "name=input(\"What is your name? \")\n",
    "age=input(\"What is your age? \")\n",
    "greetings=\"Assalam O Alikum!\"\n",
    "\n",
    "print(greetings, name, \",Your are adult Now\")\n",
    "\n",
    "\n",
    "#You_are_adult_now!   Hassan This code is clear."
   ]
  },
  {
   "cell_type": "markdown",
   "id": "bacf9e78",
   "metadata": {},
   "source": [
    "### 07-Conditional Logical Operators"
   ]
  },
  {
   "cell_type": "code",
   "execution_count": 10,
   "id": "ec905d42",
   "metadata": {},
   "outputs": [
    {
     "name": "stdout",
     "output_type": "stream",
     "text": [
      "True\n",
      "False\n",
      "True\n",
      "False\n",
      "True\n",
      "True\n",
      "True\n",
      "False\n",
      "How old is hamza? 8\n",
      "<class 'int'>\n",
      "False\n"
     ]
    }
   ],
   "source": [
    "#logical operators are either \"true or false\" , \"yes or no\" , \"0 or 1\".\n",
    "\n",
    "# equal to                 ==\n",
    "# not equal to             !=\n",
    "# greather than            >\n",
    "# less than                <\n",
    "# less than equal to       <=\n",
    "# greather than equal to    >=\n",
    "\n",
    "\n",
    "#is 4 equal to 4?\n",
    "print(4==4)\n",
    "print(4!=4)\n",
    "print(4>3)\n",
    "print(3>6)\n",
    "print(3<6)\n",
    "print(3<=5)\n",
    "print(5>=4)\n",
    "\n",
    "\n",
    "#application of logical operators\n",
    "hamza_age=9\n",
    "age_at_school=10\n",
    "print(hamza_age==age_at_school)\n",
    "\n",
    "\n",
    "#input function and logical operator\n",
    "age_at_school=5\n",
    "hamza_age=input(\"How old is hamza? \") #input function\n",
    "hamza_age=int(hamza_age)\n",
    "print(type(hamza_age)) #when age is numeric or integer then propgram is run\n",
    "print(hamza_age==age_at_school) #logical operator \n",
    "\n",
    "#convert_input"
   ]
  },
  {
   "cell_type": "markdown",
   "id": "ff5e8717",
   "metadata": {},
   "source": [
    "### 08-Types of conversion"
   ]
  },
  {
   "cell_type": "code",
   "execution_count": 11,
   "id": "6457f86c",
   "metadata": {},
   "outputs": [
    {
     "name": "stdout",
     "output_type": "stream",
     "text": [
      "10 10.5 Hello\n",
      "20.5 type of x is: <class 'float'>\n",
      "What is your age? 5\n",
      "5 <class 'int'>\n",
      "What is your Name? Hassan\n",
      "Hassan <class 'str'>\n"
     ]
    }
   ],
   "source": [
    "x=10           #integer\n",
    "y=10.5         #float\n",
    "z=(\"Hello\")    #string\n",
    "print(x,y,z)\n",
    "\n",
    "\n",
    "#1) Implicit type conversion\n",
    "x=x+y\n",
    "print(x,\"type of x is:\", type(x))\n",
    "\n",
    "\n",
    "#Explicit type conversion\n",
    "\n",
    "age=input(\"What is your age? \")\n",
    "# age=int(age)\n",
    "print(age,type(int(age)))\n",
    "\n",
    "\n",
    "#Name\n",
    "Name=input(\"What is your Name? \")\n",
    "print(Name,type(str(Name)))"
   ]
  },
  {
   "cell_type": "markdown",
   "id": "f8e7fc76",
   "metadata": {},
   "source": [
    "### 09-If_elif_else statement"
   ]
  },
  {
   "cell_type": "code",
   "execution_count": 12,
   "id": "851700ee",
   "metadata": {},
   "outputs": [
    {
     "name": "stdout",
     "output_type": "stream",
     "text": [
      "hania is still baby plz take care of her\n"
     ]
    }
   ],
   "source": [
    "required_age_at_school = 6\n",
    "hania_age = 3\n",
    "if hania_age==required_age_at_school:\n",
    "    print(\"hania join the school\")\n",
    "elif hania_age > required_age_at_school:\n",
    "    print(\"hania should join high school\")\n",
    "elif hania_age <=3:\n",
    "    print(\"hania is still baby plz take care of her\")\n",
    "else:\n",
    "    print(\"hania cannot join the school bcoz she's not full fill the requirements\")"
   ]
  },
  {
   "cell_type": "markdown",
   "id": "82a6fcf1",
   "metadata": {},
   "source": [
    "### 10-Functions"
   ]
  },
  {
   "cell_type": "code",
   "execution_count": 13,
   "id": "5be40320",
   "metadata": {},
   "outputs": [
    {
     "name": "stdout",
     "output_type": "stream",
     "text": [
      "i am learning python with ammar\n",
      "i am learning python with ammar\n",
      "i am learning python with ammar\n",
      "i am learning python with ammar\n",
      "hania cross the age limit\n",
      "52\n"
     ]
    }
   ],
   "source": [
    "#3) Third way of defining function.\n",
    "def print_function(text):\n",
    "    print(text)\n",
    "    print(text)\n",
    "    print(text)\n",
    "    print(text)\n",
    "print_function(\"i am learning python with ammar\")\n",
    "\n",
    "\n",
    "#4) Fourth way of defining function with if,elif,else statement.\n",
    "def school_admission(age):\n",
    "    if age==5:\n",
    "        print(\"hania admission is accepted\")\n",
    "    elif age<5:\n",
    "        print(\"hania admission is not acceptrd\")\n",
    "    else:\n",
    "        print(\"hania cross the age limit\")   \n",
    "school_admission(20)        \n",
    "\n",
    "\n",
    "#5) Fifth Defining a function with mathematical operators.\n",
    "#Defining a function of future.\n",
    "#Simple Machine Learning Module example.\n",
    "\n",
    "def future_age(age):\n",
    "    new_age=age+31\n",
    "    return new_age\n",
    "    print(new_age)\n",
    "future_predicted_age=future_age(21)\n",
    "print(future_predicted_age)\n"
   ]
  },
  {
   "cell_type": "markdown",
   "id": "817c6d1f",
   "metadata": {},
   "source": [
    "### 11-Loops"
   ]
  },
  {
   "cell_type": "code",
   "execution_count": 14,
   "id": "657cc9e1",
   "metadata": {},
   "outputs": [
    {
     "name": "stdout",
     "output_type": "stream",
     "text": [
      "0\n",
      "1\n",
      "2\n",
      "3\n",
      "4\n",
      "5\n",
      "4\n",
      "5\n",
      "6\n",
      "7\n",
      "8\n",
      "9\n",
      "10\n",
      "11\n",
      "12\n",
      "13\n",
      "14\n",
      "Mon\n",
      "Tue\n"
     ]
    }
   ],
   "source": [
    "#1) while loops\n",
    "x=0\n",
    "while (x<=5):\n",
    "    print(x)\n",
    "    x=x+1\n",
    "\n",
    "\n",
    "#2) for loops\n",
    "for x in range(4,15):\n",
    "    print(x)\n",
    "\n",
    "\n",
    "#3)How we used loops in program\n",
    "#Firstly we make array(Data Set)\n",
    "\n",
    "days = [\"Mon\", \"Tue\" , \"Wed\" , \"Thu\" , \"Friday\" ,\"Sat\" , \"Sun\" ]\n",
    "for d in days:\n",
    "    if (d==\"Wed\") :break\n",
    "    if (d==\"Wed\") :continue\n",
    "    print(d)"
   ]
  },
  {
   "cell_type": "markdown",
   "id": "6cf59af7",
   "metadata": {},
   "source": [
    "### 12-Import_library"
   ]
  },
  {
   "cell_type": "code",
   "execution_count": 15,
   "id": "5d9a5faf",
   "metadata": {},
   "outputs": [
    {
     "name": "stdout",
     "output_type": "stream",
     "text": [
      "The value of pi is 3.141592653589793\n",
      "350\n"
     ]
    }
   ],
   "source": [
    "import math\n",
    "print(\"The value of pi is\" , math.pi)\n",
    "\n",
    "\n",
    "#2) import library of statictis\n",
    "import statistics\n",
    "x= [150,250,350,450,550]\n",
    "print(statistics.mean(x))\n"
   ]
  },
  {
   "cell_type": "markdown",
   "id": "be61b832",
   "metadata": {},
   "source": [
    "### 13-Trouble_shooting"
   ]
  },
  {
   "cell_type": "code",
   "execution_count": 16,
   "id": "d4e4d423",
   "metadata": {},
   "outputs": [
    {
     "name": "stdout",
     "output_type": "stream",
     "text": [
      "Hello name\n",
      "Hello Hassan\n"
     ]
    }
   ],
   "source": [
    "name= \"Hassan\"\n",
    "print(\"Hello name\") #symantic eroor\n",
    "print(\"Hello\",name) #This is error free code"
   ]
  }
 ],
 "metadata": {
  "kernelspec": {
   "display_name": "Python 3 (ipykernel)",
   "language": "python",
   "name": "python3"
  },
  "language_info": {
   "codemirror_mode": {
    "name": "ipython",
    "version": 3
   },
   "file_extension": ".py",
   "mimetype": "text/x-python",
   "name": "python",
   "nbconvert_exporter": "python",
   "pygments_lexer": "ipython3",
   "version": "3.9.12"
  }
 },
 "nbformat": 4,
 "nbformat_minor": 5
}
