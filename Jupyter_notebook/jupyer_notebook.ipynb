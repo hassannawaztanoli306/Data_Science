{
 "cells": [
  {
   "cell_type": "code",
   "execution_count": null,
   "id": "5b7ab04f",
   "metadata": {},
   "outputs": [],
   "source": [
    "# Juypter Notebook"
   ]
  },
  {
   "cell_type": "code",
   "execution_count": 1,
   "id": "158bf3e2",
   "metadata": {},
   "outputs": [
    {
     "name": "stdout",
     "output_type": "stream",
     "text": [
      "Python ka chilla\n"
     ]
    }
   ],
   "source": [
    "print(\"Python ka chilla\")\n"
   ]
  },
  {
   "cell_type": "code",
   "execution_count": 2,
   "id": "7d7b5e0a",
   "metadata": {},
   "outputs": [
    {
     "data": {
      "text/plain": [
       "'My Name is Hassan Nawaz'"
      ]
     },
     "execution_count": 2,
     "metadata": {},
     "output_type": "execute_result"
    }
   ],
   "source": [
    "Hassan = \"My Name is Hassan Nawaz\"\n",
    "Hassan"
   ]
  }
 ],
 "metadata": {
  "kernelspec": {
   "display_name": "Python 3 (ipykernel)",
   "language": "python",
   "name": "python3"
  },
  "language_info": {
   "codemirror_mode": {
    "name": "ipython",
    "version": 3
   },
   "file_extension": ".py",
   "mimetype": "text/x-python",
   "name": "python",
   "nbconvert_exporter": "python",
   "pygments_lexer": "ipython3",
   "version": "3.9.12"
  }
 },
 "nbformat": 4,
 "nbformat_minor": 5
}
